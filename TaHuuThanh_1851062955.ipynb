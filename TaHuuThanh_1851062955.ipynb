{
 "cells": [
  {
   "cell_type": "code",
   "execution_count": 1,
   "id": "67985ad1",
   "metadata": {
    "_cell_guid": "b1076dfc-b9ad-4769-8c92-a6c4dae69d19",
    "_uuid": "8f2839f25d086af736a60e9eeb907d3b93b6e0e5",
    "execution": {
     "iopub.execute_input": "2022-04-08T16:05:33.742448Z",
     "iopub.status.busy": "2022-04-08T16:05:33.740610Z",
     "iopub.status.idle": "2022-04-08T16:05:33.781147Z",
     "shell.execute_reply": "2022-04-08T16:05:33.781696Z",
     "shell.execute_reply.started": "2022-04-08T15:59:22.399350Z"
    },
    "papermill": {
     "duration": 0.060758,
     "end_time": "2022-04-08T16:05:33.782027",
     "exception": false,
     "start_time": "2022-04-08T16:05:33.721269",
     "status": "completed"
    },
    "tags": []
   },
   "outputs": [
    {
     "name": "stdout",
     "output_type": "stream",
     "text": [
      "/kaggle/input/letters-cg/letters_CG.csv\n"
     ]
    }
   ],
   "source": [
    "# This Python 3 environment comes with many helpful analytics libraries installed\n",
    "# It is defined by the kaggle/python Docker image: https://github.com/kaggle/docker-python\n",
    "# For example, here's several helpful packages to load\n",
    "\n",
    "import numpy as np # linear algebra\n",
    "import pandas as pd # data processing, CSV file I/O (e.g. pd.read_csv)\n",
    "\n",
    "# Input data files are available in the read-only \"../input/\" directory\n",
    "# For example, running this (by clicking run or pressing Shift+Enter) will list all files under the input directory\n",
    "\n",
    "import os\n",
    "for dirname, _, filenames in os.walk('/kaggle/input'):\n",
    "    for filename in filenames:\n",
    "        print(os.path.join(dirname, filename))\n",
    "\n",
    "# You can write up to 20GB to the current directory (/kaggle/working/) that gets preserved as output when you create a version using \"Save & Run All\" \n",
    "# You can also write temporary files to /kaggle/temp/, but they won't be saved outside of the current session"
   ]
  },
  {
   "cell_type": "code",
   "execution_count": 2,
   "id": "e3bb7859",
   "metadata": {
    "execution": {
     "iopub.execute_input": "2022-04-08T16:05:33.812898Z",
     "iopub.status.busy": "2022-04-08T16:05:33.812255Z",
     "iopub.status.idle": "2022-04-08T16:05:33.858764Z",
     "shell.execute_reply": "2022-04-08T16:05:33.859279Z",
     "shell.execute_reply.started": "2022-04-08T15:59:22.443975Z"
    },
    "papermill": {
     "duration": 0.062962,
     "end_time": "2022-04-08T16:05:33.859453",
     "exception": false,
     "start_time": "2022-04-08T16:05:33.796491",
     "status": "completed"
    },
    "tags": []
   },
   "outputs": [
    {
     "data": {
      "text/html": [
       "<div>\n",
       "<style scoped>\n",
       "    .dataframe tbody tr th:only-of-type {\n",
       "        vertical-align: middle;\n",
       "    }\n",
       "\n",
       "    .dataframe tbody tr th {\n",
       "        vertical-align: top;\n",
       "    }\n",
       "\n",
       "    .dataframe thead th {\n",
       "        text-align: right;\n",
       "    }\n",
       "</style>\n",
       "<table border=\"1\" class=\"dataframe\">\n",
       "  <thead>\n",
       "    <tr style=\"text-align: right;\">\n",
       "      <th></th>\n",
       "      <th>Class</th>\n",
       "      <th>x-box</th>\n",
       "      <th>y-box</th>\n",
       "      <th>width</th>\n",
       "      <th>high</th>\n",
       "      <th>onpix</th>\n",
       "      <th>x-bar</th>\n",
       "      <th>y-bar</th>\n",
       "      <th>x2bar</th>\n",
       "      <th>y2bar</th>\n",
       "      <th>xybar</th>\n",
       "      <th>x2ybr</th>\n",
       "      <th>xy2br</th>\n",
       "      <th>x-ege</th>\n",
       "      <th>xegvy</th>\n",
       "      <th>y-ege</th>\n",
       "      <th>yegvx</th>\n",
       "    </tr>\n",
       "  </thead>\n",
       "  <tbody>\n",
       "    <tr>\n",
       "      <th>0</th>\n",
       "      <td>C</td>\n",
       "      <td>4</td>\n",
       "      <td>10</td>\n",
       "      <td>5</td>\n",
       "      <td>8</td>\n",
       "      <td>2</td>\n",
       "      <td>5</td>\n",
       "      <td>7</td>\n",
       "      <td>7</td>\n",
       "      <td>10</td>\n",
       "      <td>7</td>\n",
       "      <td>6</td>\n",
       "      <td>13</td>\n",
       "      <td>1</td>\n",
       "      <td>8</td>\n",
       "      <td>4</td>\n",
       "      <td>9</td>\n",
       "    </tr>\n",
       "    <tr>\n",
       "      <th>1</th>\n",
       "      <td>C</td>\n",
       "      <td>3</td>\n",
       "      <td>5</td>\n",
       "      <td>4</td>\n",
       "      <td>4</td>\n",
       "      <td>2</td>\n",
       "      <td>4</td>\n",
       "      <td>8</td>\n",
       "      <td>5</td>\n",
       "      <td>7</td>\n",
       "      <td>12</td>\n",
       "      <td>9</td>\n",
       "      <td>11</td>\n",
       "      <td>1</td>\n",
       "      <td>10</td>\n",
       "      <td>2</td>\n",
       "      <td>7</td>\n",
       "    </tr>\n",
       "    <tr>\n",
       "      <th>2</th>\n",
       "      <td>G</td>\n",
       "      <td>5</td>\n",
       "      <td>10</td>\n",
       "      <td>6</td>\n",
       "      <td>7</td>\n",
       "      <td>3</td>\n",
       "      <td>8</td>\n",
       "      <td>7</td>\n",
       "      <td>8</td>\n",
       "      <td>8</td>\n",
       "      <td>6</td>\n",
       "      <td>7</td>\n",
       "      <td>9</td>\n",
       "      <td>2</td>\n",
       "      <td>7</td>\n",
       "      <td>5</td>\n",
       "      <td>10</td>\n",
       "    </tr>\n",
       "    <tr>\n",
       "      <th>3</th>\n",
       "      <td>C</td>\n",
       "      <td>5</td>\n",
       "      <td>9</td>\n",
       "      <td>6</td>\n",
       "      <td>7</td>\n",
       "      <td>4</td>\n",
       "      <td>3</td>\n",
       "      <td>8</td>\n",
       "      <td>6</td>\n",
       "      <td>7</td>\n",
       "      <td>12</td>\n",
       "      <td>10</td>\n",
       "      <td>13</td>\n",
       "      <td>1</td>\n",
       "      <td>9</td>\n",
       "      <td>3</td>\n",
       "      <td>7</td>\n",
       "    </tr>\n",
       "    <tr>\n",
       "      <th>4</th>\n",
       "      <td>G</td>\n",
       "      <td>4</td>\n",
       "      <td>8</td>\n",
       "      <td>5</td>\n",
       "      <td>6</td>\n",
       "      <td>3</td>\n",
       "      <td>6</td>\n",
       "      <td>6</td>\n",
       "      <td>7</td>\n",
       "      <td>6</td>\n",
       "      <td>10</td>\n",
       "      <td>7</td>\n",
       "      <td>12</td>\n",
       "      <td>2</td>\n",
       "      <td>9</td>\n",
       "      <td>4</td>\n",
       "      <td>9</td>\n",
       "    </tr>\n",
       "  </tbody>\n",
       "</table>\n",
       "</div>"
      ],
      "text/plain": [
       "  Class  x-box  y-box  width  high  onpix  x-bar  y-bar  x2bar  y2bar  xybar  \\\n",
       "0     C      4     10      5     8      2      5      7      7     10      7   \n",
       "1     C      3      5      4     4      2      4      8      5      7     12   \n",
       "2     G      5     10      6     7      3      8      7      8      8      6   \n",
       "3     C      5      9      6     7      4      3      8      6      7     12   \n",
       "4     G      4      8      5     6      3      6      6      7      6     10   \n",
       "\n",
       "   x2ybr  xy2br  x-ege  xegvy  y-ege  yegvx  \n",
       "0      6     13      1      8      4      9  \n",
       "1      9     11      1     10      2      7  \n",
       "2      7      9      2      7      5     10  \n",
       "3     10     13      1      9      3      7  \n",
       "4      7     12      2      9      4      9  "
      ]
     },
     "execution_count": 2,
     "metadata": {},
     "output_type": "execute_result"
    }
   ],
   "source": [
    "import pandas as pandas\n",
    "import numpy as numpy\n",
    "\n",
    "data = pandas.read_csv('../input/letters-cg/letters_CG.csv')\n",
    "onlydata=data.loc[:,'x-box':'yegvx']\n",
    "data.head()"
   ]
  },
  {
   "cell_type": "code",
   "execution_count": 3,
   "id": "3fac1fc8",
   "metadata": {
    "execution": {
     "iopub.execute_input": "2022-04-08T16:05:33.890707Z",
     "iopub.status.busy": "2022-04-08T16:05:33.890075Z",
     "iopub.status.idle": "2022-04-08T16:05:35.034549Z",
     "shell.execute_reply": "2022-04-08T16:05:35.033936Z",
     "shell.execute_reply.started": "2022-04-08T15:59:22.490235Z"
    },
    "papermill": {
     "duration": 1.161139,
     "end_time": "2022-04-08T16:05:35.034691",
     "exception": false,
     "start_time": "2022-04-08T16:05:33.873552",
     "status": "completed"
    },
    "tags": []
   },
   "outputs": [],
   "source": [
    "from sklearn.model_selection import train_test_split\n",
    "from sklearn import preprocessing\n",
    "X=onlydata.values\n",
    "CG=data.values[:,0]\n",
    "y=numpy.zeros((CG.size))\n",
    "y[CG=='G']=1\n",
    "# Split data into training and testing sets\n",
    "X_train, X_test, y_train, y_test = train_test_split(X, y, test_size=0.25, random_state = 0)\n",
    "# Standardize the x_train and x_test datasets\n",
    "std_scaler = preprocessing.StandardScaler().fit(X_train)\n",
    "X_train_scaled = std_scaler.transform(X_train)\n",
    "X_test_scaled = std_scaler.transform(X_test)"
   ]
  },
  {
   "cell_type": "code",
   "execution_count": 4,
   "id": "dac5ce5d",
   "metadata": {
    "execution": {
     "iopub.execute_input": "2022-04-08T16:05:35.067855Z",
     "iopub.status.busy": "2022-04-08T16:05:35.067233Z",
     "iopub.status.idle": "2022-04-08T16:05:35.859885Z",
     "shell.execute_reply": "2022-04-08T16:05:35.859178Z",
     "shell.execute_reply.started": "2022-04-08T15:59:22.530912Z"
    },
    "papermill": {
     "duration": 0.810463,
     "end_time": "2022-04-08T16:05:35.860071",
     "exception": false,
     "start_time": "2022-04-08T16:05:35.049608",
     "status": "completed"
    },
    "tags": []
   },
   "outputs": [
    {
     "data": {
      "image/png": "[encoded data removed]",
      "text/plain": [
       "<Figure size 432x288 with 2 Axes>"
      ]
     },
     "metadata": {
      "needs_background": "light"
     },
     "output_type": "display_data"
    }
   ],
   "source": [
    "from sklearn.decomposition import PCA\n",
    "import matplotlib.pyplot as plt\n",
    "pca = PCA(n_components=2)\n",
    "fig, (plttrain, plttest) = plt.subplots(1, 2)\n",
    "datavl1=pca.fit_transform(X_train_scaled)\n",
    "A1=datavl1[(y_train==1)]\n",
    "A2=datavl1[(y_train==0)]\n",
    "plttrain.set_title('Train values :'+ str(X_train_scaled.shape))\n",
    "plttrain.scatter(A1[:,0],A1[:,1],c=\"Yellow\",marker='o')\n",
    "plttrain.scatter(A2[:,0],A2[:,1],c=\"Red\",marker='+')\n",
    "plttrain.legend(['label 1','label 0'])\n",
    "datavl2=pca.fit_transform(X_test_scaled)\n",
    "A11=datavl2[(y_test==1)]\n",
    "A12=datavl2[(y_test==0)]\n",
    "plttest.set_title('Test values :'+str(X_test_scaled.shape))\n",
    "plttest.scatter(A11[:,0],A11[:,1],c=\"Yellow\",marker='o')\n",
    "plttest.scatter(A12[:,0],A12[:,1],c=\"Red\",marker='+')\n",
    "plttest.legend(['label 1','label 0'])\n",
    "plt.savefig('lettersCG_Xtraintext.png')"
   ]
  },
  {
   "cell_type": "code",
   "execution_count": 5,
   "id": "8f874d9d",
   "metadata": {
    "execution": {
     "iopub.execute_input": "2022-04-08T16:05:35.900118Z",
     "iopub.status.busy": "2022-04-08T16:05:35.899339Z",
     "iopub.status.idle": "2022-04-08T16:05:36.278948Z",
     "shell.execute_reply": "2022-04-08T16:05:36.279472Z",
     "shell.execute_reply.started": "2022-04-08T15:59:22.979433Z"
    },
    "papermill": {
     "duration": 0.403332,
     "end_time": "2022-04-08T16:05:36.279643",
     "exception": false,
     "start_time": "2022-04-08T16:05:35.876311",
     "status": "completed"
    },
    "tags": []
   },
   "outputs": [
    {
     "data": {
      "image/png": "[encoded data removed]",
      "text/plain": [
       "<Figure size 432x288 with 1 Axes>"
      ]
     },
     "metadata": {
      "needs_background": "light"
     },
     "output_type": "display_data"
    }
   ],
   "source": [
    "from sklearn.decomposition import PCA\n",
    "import matplotlib.pyplot as plt\n",
    "pca= PCA(n_components=2)\n",
    "# fig, (plttrain, plttest) = plt.subplots(1, 2)\n",
    "datavlx=pca.fit_transform(X)\n",
    "Ax1=datavlx[(y==1)]\n",
    "Ax2=datavlx[(y==0)]\n",
    "plt.title('Train values :'+ str(X.shape))\n",
    "plt.scatter(Ax1[:,0],Ax1[:,1],c=\"Yellow\",marker='o')\n",
    "plt.scatter(Ax2[:,0],Ax2[:,1],c=\"Red\",marker='+')\n",
    "plt.legend(['label 1','label 0'])\n",
    "plt.savefig('lettersCG_X.png')"
   ]
  },
  {
   "cell_type": "code",
   "execution_count": 6,
   "id": "91f6c907",
   "metadata": {
    "execution": {
     "iopub.execute_input": "2022-04-08T16:05:36.317116Z",
     "iopub.status.busy": "2022-04-08T16:05:36.316467Z",
     "iopub.status.idle": "2022-04-08T16:05:36.328807Z",
     "shell.execute_reply": "2022-04-08T16:05:36.329374Z",
     "shell.execute_reply.started": "2022-04-08T15:59:23.285054Z"
    },
    "papermill": {
     "duration": 0.032674,
     "end_time": "2022-04-08T16:05:36.329550",
     "exception": false,
     "start_time": "2022-04-08T16:05:36.296876",
     "status": "completed"
    },
    "tags": []
   },
   "outputs": [],
   "source": [
    "class RatingModel:\n",
    "    def __init__(self, y_, y_Pr):\n",
    "      self.y_=y_\n",
    "      self.y_Pr=y_Pr\n",
    "      self.TN=np.size(y_Pr[(y_Pr==-1)&(y_==y_Pr)])\n",
    "      self.FN=np.size(y_Pr[(y_Pr==-1)&(y_!=y_Pr)])\n",
    "      self.TP=np.size(y_Pr[(y_Pr==1)&(y_==y_Pr)])\n",
    "      self.FP=np.size(y_Pr[(y_Pr==1)&(y_!=y_Pr)])\n",
    "      self.y_[self.y_==0]=-1\n",
    "      self.y_Pr[self.y_Pr==0]=-1\n",
    "      # assert self.y_.set={1, -1}\n",
    "      # assert self.y_Pr.set={1, -1}\n",
    "    def __rep__():\n",
    "        return \"\"\n",
    "    def accur_Error(self, y_, y_Pr):\n",
    "        rs=(self.TP+self.TN)/(y_.size)\n",
    "        return [rs,(1-rs)]\n",
    "    def sensitivity(self):\n",
    "        P=np.size(self.y_[self.y_==1])\n",
    "        return (self.TP)/(P)\n",
    "    def specificity(self):\n",
    "        N=np.size(self.y_[self.y_==-1])\n",
    "        return (self.TN)/(N)\n",
    "    def precision(self):\n",
    "        rs=self.TP+self.FP\n",
    "        return (self.TP)/(rs)\n",
    "    def recall(self):\n",
    "        rs=self.TP+self.FN\n",
    "        return (self.TP)/(rs)\n",
    "    def rating(self):\n",
    "        return [self.accur_Error(self.y_, self.y_Pr), self.sensitivity(), self.specificity(), self.precision(), self.recall()]"
   ]
  },
  {
   "cell_type": "code",
   "execution_count": 7,
   "id": "4187b5c4",
   "metadata": {
    "execution": {
     "iopub.execute_input": "2022-04-08T16:05:36.367366Z",
     "iopub.status.busy": "2022-04-08T16:05:36.366649Z",
     "iopub.status.idle": "2022-04-08T16:05:36.381828Z",
     "shell.execute_reply": "2022-04-08T16:05:36.381143Z",
     "shell.execute_reply.started": "2022-04-08T15:59:23.298246Z"
    },
    "papermill": {
     "duration": 0.035376,
     "end_time": "2022-04-08T16:05:36.381991",
     "exception": false,
     "start_time": "2022-04-08T16:05:36.346615",
     "status": "completed"
    },
    "tags": []
   },
   "outputs": [],
   "source": [
    "class DecisionStump:\n",
    "    def __init__(self, T=100):\n",
    "        self.T = T\n",
    "        pass\n",
    "\n",
    "    def fit(self, X: np.ndarray, y: np.ndarray, sample_weight: np.ndarray):\n",
    "        T = self.T\n",
    "        W=sample_weight\n",
    "        nrow, ncol = X.shape\n",
    "        assert nrow == y.size\n",
    "\n",
    "        bestn = 0\n",
    "        bestd = 1\n",
    "        bestp = 0\n",
    "        minerr = W.sum()\n",
    "        for i in range(ncol):\n",
    "            err, d, p = self._optimize(X[:, i], y, W, T)\n",
    "            if err < minerr:\n",
    "                minerr = err\n",
    "                bestn = i\n",
    "                bestd = d\n",
    "                bestp = p\n",
    "        \n",
    "        self.features = ncol\n",
    "        self.bestn = bestn\n",
    "        self.bestd = bestd\n",
    "        self.bestp = bestp\n",
    "\n",
    "        return self\n",
    "\n",
    "    def _optimize(self, X, y, W, T):\n",
    "        X = X.flatten()\n",
    "        min_x, max_x = X.min(), X.max()\n",
    "        len_x = max_x - min_x\n",
    "        \n",
    "        bestd = 1\n",
    "        bestp = min_x\n",
    "        minerr = W.sum()\n",
    "\n",
    "        if len_x > 0.0:\n",
    "            for p in np.arange(min_x, max_x, len_x/T):\n",
    "                for d in [-1, 1]:\n",
    "                    gy = np.ones((y.size))\n",
    "                    gy[X*d < p*d] = -1\n",
    "                    err = np.sum((gy != y)*W)\n",
    "                    if err < minerr:\n",
    "                        minerr = err\n",
    "                        bestd = d\n",
    "                        bestp = p\n",
    "\n",
    "        return minerr, bestd, bestp\n",
    "\n",
    "    def predict(self, test_set : np.ndarray):\n",
    "        nrow, ncol = test_set.shape\n",
    "\n",
    "        assert ncol == self.features\n",
    "\n",
    "        icol = test_set[:, self.bestn]\n",
    "        h = np.ones((nrow))\n",
    "        h[icol*self.bestd < self.bestp*self.bestd] = -1\n",
    "        return h"
   ]
  },
  {
   "cell_type": "code",
   "execution_count": 8,
   "id": "5ba03c7e",
   "metadata": {
    "execution": {
     "iopub.execute_input": "2022-04-08T16:05:36.431587Z",
     "iopub.status.busy": "2022-04-08T16:05:36.430904Z",
     "iopub.status.idle": "2022-04-08T16:05:36.437029Z",
     "shell.execute_reply": "2022-04-08T16:05:36.437496Z",
     "shell.execute_reply.started": "2022-04-08T15:59:23.316923Z"
    },
    "papermill": {
     "duration": 0.03837,
     "end_time": "2022-04-08T16:05:36.437672",
     "exception": false,
     "start_time": "2022-04-08T16:05:36.399302",
     "status": "completed"
    },
    "tags": []
   },
   "outputs": [],
   "source": [
    "class AdaBoost:\n",
    "    def __init__(self , T, hmodel = DecisionStump()):\n",
    "        self.T=T\n",
    "        self.hmodel=hmodel\n",
    "    def fit(self, X: np.ndarray, y_: np.ndarray, verbose=False):\n",
    "      n = X.shape[0]\n",
    "      T = self.T\n",
    "      y=y_\n",
    "      y[y==0]=-1\n",
    "    # init numpy arrays\n",
    "      self.D = np.zeros(shape=(T, n))\n",
    "      self.h = np.zeros(shape=T, dtype=object)\n",
    "      self.alpha = np.zeros(shape=T)\n",
    "      self.errors = np.zeros(shape=T)\n",
    "      self.ratting = np.zeros(shape=(T,2))\n",
    "\n",
    "      # initialize weights uniformly\n",
    "      self.D[0] = np.ones(shape=n) / n\n",
    "\n",
    "      for t in range(T):\n",
    "          # fit  weak learner\n",
    "          D_ = self.D[t]\n",
    "          h_ = DecisionStump(60)\n",
    "          h_ = h_.fit(X, y, D_)\n",
    "\n",
    "          # calculate error and stump weight from weak learner prediction\n",
    "          Pr_ = h_.predict(X)\n",
    "          error_ = D_[(Pr_ != y)].sum()# / n\n",
    "          alpha_ = np.log((1 - error_) / error_) / 2\n",
    "\n",
    "          # update sample weights\n",
    "          D_new = (\n",
    "              D_ * np.exp(-alpha_ * y * Pr_)\n",
    "          )\n",
    "          \n",
    "          D_new /= D_new.sum()\n",
    "\n",
    "          # If not final iteration, update sample weights for t+1\n",
    "          if t+1 < T:\n",
    "              self.D[t+1] = D_new\n",
    "\n",
    "          # save results of iteration\n",
    "          self.h[t] = h_\n",
    "          self.alpha[t] = alpha_\n",
    "          self.errors[t] = error_\n",
    "          # ae=np.array([0,0])\n",
    "          if t>0:\n",
    "            Pr_temp=self.predictmodul(X,t)\n",
    "            modelra=RatingModel(y, Pr_temp)\n",
    "            self.ratting[t,:]=modelra.accur_Error(y, Pr_temp)\n",
    "          if verbose: print('Training {0}-th weak classifier: accuracy={1}, error={2}'.format (t, self.ratting[t,0], self.ratting[t,1]))\n",
    "      return self\n",
    "    def predict(self, X):\n",
    "        Pr_ = np.array([h_.predict(X) for h_ in self.h])\n",
    "        return np.sign(np.dot(self.alpha, Pr_))\n",
    "    def predictmodul(self, X, i):\n",
    "        h_temp=self.h[:i]\n",
    "        alpha_temp=self.alpha[:i]\n",
    "        Pr_ = np.array([h_.predict(X) for h_ in h_temp])\n",
    "        return np.sign(np.dot(alpha_temp, Pr_))"
   ]
  },
  {
   "cell_type": "code",
   "execution_count": 9,
   "id": "768df1dc",
   "metadata": {
    "execution": {
     "iopub.execute_input": "2022-04-08T16:05:36.476003Z",
     "iopub.status.busy": "2022-04-08T16:05:36.475355Z",
     "iopub.status.idle": "2022-04-08T16:05:41.723287Z",
     "shell.execute_reply": "2022-04-08T16:05:41.724950Z",
     "shell.execute_reply.started": "2022-04-08T15:59:23.338739Z"
    },
    "papermill": {
     "duration": 5.270387,
     "end_time": "2022-04-08T16:05:41.725452",
     "exception": false,
     "start_time": "2022-04-08T16:05:36.455065",
     "status": "completed"
    },
    "tags": []
   },
   "outputs": [
    {
     "name": "stdout",
     "output_type": "stream",
     "text": [
      "Training 0-th weak classifier: accuracy=0.0, error=0.0\n",
      "Training 1-th weak classifier: accuracy=0.784261715296198, error=0.21573828470380196\n",
      "Training 2-th weak classifier: accuracy=0.784261715296198, error=0.21573828470380196\n",
      "Training 3-th weak classifier: accuracy=0.8470380194518126, error=0.15296198054818744\n",
      "Training 4-th weak classifier: accuracy=0.8470380194518126, error=0.15296198054818744\n",
      "Training 5-th weak classifier: accuracy=0.8753315649867374, error=0.12466843501326264\n",
      "Training 6-th weak classifier: accuracy=0.874447391688771, error=0.12555260831122905\n",
      "Training 7-th weak classifier: accuracy=0.8947833775419982, error=0.10521662245800179\n",
      "Training 8-th weak classifier: accuracy=0.8894783377541998, error=0.11052166224580018\n",
      "Training 9-th weak classifier: accuracy=0.9045092838196287, error=0.0954907161803713\n",
      "Training 10-th weak classifier: accuracy=0.9018567639257294, error=0.09814323607427056\n",
      "Training 11-th weak classifier: accuracy=0.9151193633952255, error=0.08488063660477452\n",
      "Training 12-th weak classifier: accuracy=0.9071618037135278, error=0.09283819628647216\n",
      "Training 13-th weak classifier: accuracy=0.9328028293545535, error=0.0671971706454465\n",
      "Training 14-th weak classifier: accuracy=0.9248452696728559, error=0.07515473032714415\n",
      "Training 15-th weak classifier: accuracy=0.9168877099911583, error=0.08311229000884168\n",
      "Training 16-th weak classifier: accuracy=0.9213085764809903, error=0.0786914235190097\n",
      "Training 17-th weak classifier: accuracy=0.9292661361626879, error=0.07073386383731206\n",
      "Training 18-th weak classifier: accuracy=0.9292661361626879, error=0.07073386383731206\n",
      "Training 19-th weak classifier: accuracy=0.9195402298850575, error=0.08045977011494254\n",
      "Training 20-th weak classifier: accuracy=0.9389920424403183, error=0.06100795755968169\n",
      "Training 21-th weak classifier: accuracy=0.9354553492484527, error=0.06454465075154725\n",
      "Training 22-th weak classifier: accuracy=0.9257294429708223, error=0.07427055702917773\n",
      "Training 23-th weak classifier: accuracy=0.9328028293545535, error=0.0671971706454465\n",
      "Training 24-th weak classifier: accuracy=0.9451812555260831, error=0.05481874447391688\n",
      "Training 25-th weak classifier: accuracy=0.9372236958443855, error=0.06277630415561453\n",
      "Training 26-th weak classifier: accuracy=0.946949602122016, error=0.053050397877984046\n",
      "Training 27-th weak classifier: accuracy=0.9354553492484527, error=0.06454465075154725\n",
      "Training 28-th weak classifier: accuracy=0.9496021220159151, error=0.050397877984084904\n",
      "Training 29-th weak classifier: accuracy=0.946949602122016, error=0.053050397877984046\n",
      "Training 30-th weak classifier: accuracy=0.946949602122016, error=0.053050397877984046\n",
      "Training 31-th weak classifier: accuracy=0.9451812555260831, error=0.05481874447391688\n",
      "Training 32-th weak classifier: accuracy=0.9487179487179487, error=0.05128205128205132\n",
      "Training 33-th weak classifier: accuracy=0.9487179487179487, error=0.05128205128205132\n",
      "Training 34-th weak classifier: accuracy=0.9513704686118479, error=0.04862953138815207\n",
      "Training 35-th weak classifier: accuracy=0.9549071618037135, error=0.04509283819628651\n",
      "Training 36-th weak classifier: accuracy=0.9522546419098143, error=0.04774535809018565\n",
      "Training 37-th weak classifier: accuracy=0.9531388152077808, error=0.046861184792219235\n",
      "Training 38-th weak classifier: accuracy=0.9557913351016799, error=0.044208664898320094\n",
      "Training 39-th weak classifier: accuracy=0.9557913351016799, error=0.044208664898320094\n",
      "Training 40-th weak classifier: accuracy=0.9557913351016799, error=0.044208664898320094\n",
      "Training 41-th weak classifier: accuracy=0.9566755083996463, error=0.043324491600353676\n",
      "Training 42-th weak classifier: accuracy=0.9540229885057471, error=0.04597701149425293\n",
      "Training 43-th weak classifier: accuracy=0.9557913351016799, error=0.044208664898320094\n",
      "Training 44-th weak classifier: accuracy=0.9584438549955792, error=0.04155614500442084\n",
      "Training 45-th weak classifier: accuracy=0.9593280282935456, error=0.040671971706454424\n",
      "Training 46-th weak classifier: accuracy=0.9628647214854111, error=0.037135278514588865\n",
      "Training 47-th weak classifier: accuracy=0.9628647214854111, error=0.037135278514588865\n",
      "Training 48-th weak classifier: accuracy=0.964633068081344, error=0.03536693191865603\n",
      "Training 49-th weak classifier: accuracy=0.9628647214854111, error=0.037135278514588865\n",
      "Training 50-th weak classifier: accuracy=0.9664014146772767, error=0.03359858532272331\n",
      "Training 51-th weak classifier: accuracy=0.9628647214854111, error=0.037135278514588865\n",
      "Training 52-th weak classifier: accuracy=0.9637488947833776, error=0.03625110521662245\n",
      "Training 53-th weak classifier: accuracy=0.9637488947833776, error=0.03625110521662245\n",
      "Training 54-th weak classifier: accuracy=0.9602122015915119, error=0.03978779840848812\n"
     ]
    }
   ],
   "source": [
    "model=AdaBoost(55)\n",
    "model=model.fit(X_train_scaled, y_train,  True )\n",
    "Pr=model.predict( X_test_scaled)\n",
    "Pr[(Pr==0)]=-1\n",
    "# print(Pr, y_test)"
   ]
  },
  {
   "cell_type": "code",
   "execution_count": 10,
   "id": "f8b7c3e9",
   "metadata": {
    "execution": {
     "iopub.execute_input": "2022-04-08T16:05:41.837465Z",
     "iopub.status.busy": "2022-04-08T16:05:41.836360Z",
     "iopub.status.idle": "2022-04-08T16:05:42.173047Z",
     "shell.execute_reply": "2022-04-08T16:05:42.173571Z",
     "shell.execute_reply.started": "2022-04-08T15:59:26.948953Z"
    },
    "papermill": {
     "duration": 0.399469,
     "end_time": "2022-04-08T16:05:42.173751",
     "exception": false,
     "start_time": "2022-04-08T16:05:41.774282",
     "status": "completed"
    },
    "tags": []
   },
   "outputs": [
    {
     "data": {
      "text/plain": [
       "[<matplotlib.lines.Line2D at 0x7fd1ade9dc50>]"
      ]
     },
     "execution_count": 10,
     "metadata": {},
     "output_type": "execute_result"
    },
    {
     "data": {
      "image/png": "[encoded data removed]",
      "text/plain": [
       "<Figure size 432x288 with 1 Axes>"
      ]
     },
     "metadata": {
      "needs_background": "light"
     },
     "output_type": "display_data"
    }
   ],
   "source": [
    "ra_Xtest = np.zeros(shape=(model.T,2))\n",
    "for i in range(1,model.T):\n",
    "  Pr_i=model.predictmodul(X_test_scaled,i)\n",
    "  modelra=RatingModel(y_test, Pr_i)\n",
    "  ra_Xtest[i,:]=modelra.accur_Error(y_test, Pr_i)\n",
    "ra_Xtrain = np.zeros(shape=(model.T,2))\n",
    "for i in range(1,model.T):\n",
    "  Pr_i=model.predictmodul(X_train_scaled,i)\n",
    "  modelra=RatingModel(y_train, Pr_i)\n",
    "  ra_Xtrain[i,:]=modelra.accur_Error(y_train, Pr_i)\n",
    "iter=range(model.T)\n",
    "plt.plot(iter,ra_Xtest[:,0],'y-', label='Test accuracy')\n",
    "plt.plot(iter,ra_Xtest[:,1],'r-', label='Test error')\n",
    "plt.plot(iter,ra_Xtrain[:,0],'y--', label='Train accuracy')\n",
    "plt.plot(iter,ra_Xtrain[:,1],'r--', label='Train error')"
   ]
  },
  {
   "cell_type": "code",
   "execution_count": 11,
   "id": "34c75123",
   "metadata": {
    "execution": {
     "iopub.execute_input": "2022-04-08T16:05:42.232874Z",
     "iopub.status.busy": "2022-04-08T16:05:42.231897Z",
     "iopub.status.idle": "2022-04-08T16:05:42.588693Z",
     "shell.execute_reply": "2022-04-08T16:05:42.589209Z",
     "shell.execute_reply.started": "2022-04-08T15:59:27.206482Z"
    },
    "papermill": {
     "duration": 0.38801,
     "end_time": "2022-04-08T16:05:42.589386",
     "exception": false,
     "start_time": "2022-04-08T16:05:42.201376",
     "status": "completed"
    },
    "tags": []
   },
   "outputs": [
    {
     "data": {
      "image/png": "[encoded data removed]",
      "text/plain": [
       "<Figure size 432x288 with 1 Axes>"
      ]
     },
     "metadata": {
      "needs_background": "light"
     },
     "output_type": "display_data"
    }
   ],
   "source": [
    "sumerror=0;\n",
    "y_new=y_test\n",
    "y_new[y_new==0]=-1\n",
    "# for i in range(y_new.shape[0]):\n",
    "#   if y_new[i]!=Pr[i]: \n",
    "#     sumerror+=1\n",
    "sumerror=np.size(y_new[Pr!=y_new])\n",
    "gT1=datavl2[(Pr==1)]\n",
    "gT0=datavl2[(Pr==-1)]\n",
    "gF1=datavl2[(y_new!=Pr)&(Pr==1)]\n",
    "gF0=datavl2[(y_new!=Pr)&(Pr==-1)]\n",
    "plt.title('Test values errors :'+str(sumerror)+'/ '+str(X_test_scaled.shape[0]))\n",
    "plt.scatter(gT1[:,0],gT1[:,1],c=\"Yellow\", marker='o')\n",
    "plt.scatter(gT0[:,0],gT0[:,1],c=\"Red\", marker='+')\n",
    "plt.scatter(gF1[:,0],gF1[:,1], c=\"black\", marker='o')\n",
    "plt.scatter(gF0[:,0],gF0[:,1], c=\"black\", marker='+')\n",
    "plt.legend(['Dự đoán đúng 2', 'Dự đoán đúng 0', 'Dự đoán sai'])\n",
    "plt.savefig('lettersCG_XtextError.png')"
   ]
  }
 ],
 "metadata": {
  "kernelspec": {
   "display_name": "Python 3",
   "language": "python",
   "name": "python3"
  },
  "language_info": {
   "codemirror_mode": {
    "name": "ipython",
    "version": 3
   },
   "file_extension": ".py",
   "mimetype": "text/x-python",
   "name": "python",
   "nbconvert_exporter": "python",
   "pygments_lexer": "ipython3",
   "version": "3.7.12"
  },
  "papermill": {
   "default_parameters": {},
   "duration": 19.790053,
   "end_time": "2022-04-08T16:05:43.329607",
   "environment_variables": {},
   "exception": null,
   "input_path": "__notebook__.ipynb",
   "output_path": "__notebook__.ipynb",
   "parameters": {},
   "start_time": "2022-04-08T16:05:23.539554",
   "version": "2.3.3"
  }
 },
 "nbformat": 4,
 "nbformat_minor": 5
}
