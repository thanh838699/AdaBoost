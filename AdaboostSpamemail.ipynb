{
 "cells": [
  {
   "cell_type": "code",
   "execution_count": 1,
   "id": "77b7f879",
   "metadata": {
    "_cell_guid": "b1076dfc-b9ad-4769-8c92-a6c4dae69d19",
    "_uuid": "8f2839f25d086af736a60e9eeb907d3b93b6e0e5",
    "execution": {
     "iopub.execute_input": "2022-04-08T16:10:59.458785Z",
     "iopub.status.busy": "2022-04-08T16:10:59.457564Z",
     "iopub.status.idle": "2022-04-08T16:10:59.476135Z",
     "shell.execute_reply": "2022-04-08T16:10:59.476797Z",
     "shell.execute_reply.started": "2022-04-08T15:59:38.710195Z"
    },
    "papermill": {
     "duration": 0.037598,
     "end_time": "2022-04-08T16:10:59.477112",
     "exception": false,
     "start_time": "2022-04-08T16:10:59.439514",
     "status": "completed"
    },
    "tags": []
   },
   "outputs": [
    {
     "name": "stdout",
     "output_type": "stream",
     "text": [
      "/kaggle/input/spamemail/spam_email.csv\n"
     ]
    }
   ],
   "source": [
    "# This Python 3 environment comes with many helpful analytics libraries installed\n",
    "# It is defined by the kaggle/python Docker image: https://github.com/kaggle/docker-python\n",
    "# For example, here's several helpful packages to load\n",
    "\n",
    "import numpy as np # linear algebra\n",
    "import pandas as pd # data processing, CSV file I/O (e.g. pd.read_csv)\n",
    "\n",
    "# Input data files are available in the read-only \"../input/\" directory\n",
    "# For example, running this (by clicking run or pressing Shift+Enter) will list all files under the input directory\n",
    "\n",
    "import os\n",
    "for dirname, _, filenames in os.walk('/kaggle/input'):\n",
    "    for filename in filenames:\n",
    "        print(os.path.join(dirname, filename))\n",
    "\n",
    "# You can write up to 20GB to the current directory (/kaggle/working/) that gets preserved as output when you create a version using \"Save & Run All\" \n",
    "# You can also write temporary files to /kaggle/temp/, but they won't be saved outside of the current session"
   ]
  },
  {
   "cell_type": "code",
   "execution_count": 2,
   "id": "43e4174f",
   "metadata": {
    "execution": {
     "iopub.execute_input": "2022-04-08T16:10:59.510362Z",
     "iopub.status.busy": "2022-04-08T16:10:59.509688Z",
     "iopub.status.idle": "2022-04-08T16:10:59.729362Z",
     "shell.execute_reply": "2022-04-08T16:10:59.729901Z",
     "shell.execute_reply.started": "2022-04-08T15:59:38.741381Z"
    },
    "papermill": {
     "duration": 0.236759,
     "end_time": "2022-04-08T16:10:59.730117",
     "exception": false,
     "start_time": "2022-04-08T16:10:59.493358",
     "status": "completed"
    },
    "tags": []
   },
   "outputs": [
    {
     "data": {
      "text/html": [
       "<div>\n",
       "<style scoped>\n",
       "    .dataframe tbody tr th:only-of-type {\n",
       "        vertical-align: middle;\n",
       "    }\n",
       "\n",
       "    .dataframe tbody tr th {\n",
       "        vertical-align: top;\n",
       "    }\n",
       "\n",
       "    .dataframe thead th {\n",
       "        text-align: right;\n",
       "    }\n",
       "</style>\n",
       "<table border=\"1\" class=\"dataframe\">\n",
       "  <thead>\n",
       "    <tr style=\"text-align: right;\">\n",
       "      <th></th>\n",
       "      <th>make</th>\n",
       "      <th>address</th>\n",
       "      <th>all</th>\n",
       "      <th>3d</th>\n",
       "      <th>our</th>\n",
       "      <th>over</th>\n",
       "      <th>remove</th>\n",
       "      <th>internet</th>\n",
       "      <th>order</th>\n",
       "      <th>mail</th>\n",
       "      <th>...</th>\n",
       "      <th>semicol</th>\n",
       "      <th>paren</th>\n",
       "      <th>bracket</th>\n",
       "      <th>bang</th>\n",
       "      <th>dollar</th>\n",
       "      <th>pound</th>\n",
       "      <th>cap_avg</th>\n",
       "      <th>cap_long</th>\n",
       "      <th>cap_total</th>\n",
       "      <th>Class</th>\n",
       "    </tr>\n",
       "  </thead>\n",
       "  <tbody>\n",
       "    <tr>\n",
       "      <th>0</th>\n",
       "      <td>0.00</td>\n",
       "      <td>0.00</td>\n",
       "      <td>0.29</td>\n",
       "      <td>0.0</td>\n",
       "      <td>0.00</td>\n",
       "      <td>0.00</td>\n",
       "      <td>0.00</td>\n",
       "      <td>0.00</td>\n",
       "      <td>0.00</td>\n",
       "      <td>0.00</td>\n",
       "      <td>...</td>\n",
       "      <td>0.000</td>\n",
       "      <td>0.178</td>\n",
       "      <td>0.0</td>\n",
       "      <td>0.044</td>\n",
       "      <td>0.000</td>\n",
       "      <td>0.00</td>\n",
       "      <td>1.666</td>\n",
       "      <td>10</td>\n",
       "      <td>180</td>\n",
       "      <td>ham</td>\n",
       "    </tr>\n",
       "    <tr>\n",
       "      <th>1</th>\n",
       "      <td>0.46</td>\n",
       "      <td>0.00</td>\n",
       "      <td>0.00</td>\n",
       "      <td>0.0</td>\n",
       "      <td>0.00</td>\n",
       "      <td>0.00</td>\n",
       "      <td>0.00</td>\n",
       "      <td>0.00</td>\n",
       "      <td>0.00</td>\n",
       "      <td>0.00</td>\n",
       "      <td>...</td>\n",
       "      <td>0.000</td>\n",
       "      <td>0.125</td>\n",
       "      <td>0.0</td>\n",
       "      <td>0.000</td>\n",
       "      <td>0.000</td>\n",
       "      <td>0.00</td>\n",
       "      <td>1.510</td>\n",
       "      <td>10</td>\n",
       "      <td>74</td>\n",
       "      <td>ham</td>\n",
       "    </tr>\n",
       "    <tr>\n",
       "      <th>2</th>\n",
       "      <td>0.00</td>\n",
       "      <td>0.00</td>\n",
       "      <td>0.00</td>\n",
       "      <td>0.0</td>\n",
       "      <td>0.00</td>\n",
       "      <td>0.00</td>\n",
       "      <td>0.00</td>\n",
       "      <td>0.00</td>\n",
       "      <td>0.00</td>\n",
       "      <td>0.00</td>\n",
       "      <td>...</td>\n",
       "      <td>0.000</td>\n",
       "      <td>0.000</td>\n",
       "      <td>0.0</td>\n",
       "      <td>0.000</td>\n",
       "      <td>0.000</td>\n",
       "      <td>0.00</td>\n",
       "      <td>1.718</td>\n",
       "      <td>11</td>\n",
       "      <td>55</td>\n",
       "      <td>ham</td>\n",
       "    </tr>\n",
       "    <tr>\n",
       "      <th>3</th>\n",
       "      <td>0.33</td>\n",
       "      <td>0.44</td>\n",
       "      <td>0.37</td>\n",
       "      <td>0.0</td>\n",
       "      <td>0.14</td>\n",
       "      <td>0.11</td>\n",
       "      <td>0.00</td>\n",
       "      <td>0.07</td>\n",
       "      <td>0.97</td>\n",
       "      <td>1.16</td>\n",
       "      <td>...</td>\n",
       "      <td>0.006</td>\n",
       "      <td>0.159</td>\n",
       "      <td>0.0</td>\n",
       "      <td>0.069</td>\n",
       "      <td>0.221</td>\n",
       "      <td>0.11</td>\n",
       "      <td>3.426</td>\n",
       "      <td>72</td>\n",
       "      <td>819</td>\n",
       "      <td>spam</td>\n",
       "    </tr>\n",
       "    <tr>\n",
       "      <th>4</th>\n",
       "      <td>0.00</td>\n",
       "      <td>2.08</td>\n",
       "      <td>0.00</td>\n",
       "      <td>0.0</td>\n",
       "      <td>3.12</td>\n",
       "      <td>0.00</td>\n",
       "      <td>1.04</td>\n",
       "      <td>0.00</td>\n",
       "      <td>0.00</td>\n",
       "      <td>0.00</td>\n",
       "      <td>...</td>\n",
       "      <td>0.000</td>\n",
       "      <td>0.000</td>\n",
       "      <td>0.0</td>\n",
       "      <td>0.263</td>\n",
       "      <td>0.000</td>\n",
       "      <td>0.00</td>\n",
       "      <td>1.428</td>\n",
       "      <td>4</td>\n",
       "      <td>20</td>\n",
       "      <td>spam</td>\n",
       "    </tr>\n",
       "  </tbody>\n",
       "</table>\n",
       "<p>5 rows × 58 columns</p>\n",
       "</div>"
      ],
      "text/plain": [
       "   make  address   all   3d   our  over  remove  internet  order  mail  ...  \\\n",
       "0  0.00     0.00  0.29  0.0  0.00  0.00    0.00      0.00   0.00  0.00  ...   \n",
       "1  0.46     0.00  0.00  0.0  0.00  0.00    0.00      0.00   0.00  0.00  ...   \n",
       "2  0.00     0.00  0.00  0.0  0.00  0.00    0.00      0.00   0.00  0.00  ...   \n",
       "3  0.33     0.44  0.37  0.0  0.14  0.11    0.00      0.07   0.97  1.16  ...   \n",
       "4  0.00     2.08  0.00  0.0  3.12  0.00    1.04      0.00   0.00  0.00  ...   \n",
       "\n",
       "   semicol  paren  bracket   bang  dollar  pound  cap_avg  cap_long  \\\n",
       "0    0.000  0.178      0.0  0.044   0.000   0.00    1.666        10   \n",
       "1    0.000  0.125      0.0  0.000   0.000   0.00    1.510        10   \n",
       "2    0.000  0.000      0.0  0.000   0.000   0.00    1.718        11   \n",
       "3    0.006  0.159      0.0  0.069   0.221   0.11    3.426        72   \n",
       "4    0.000  0.000      0.0  0.263   0.000   0.00    1.428         4   \n",
       "\n",
       "   cap_total  Class  \n",
       "0        180    ham  \n",
       "1         74    ham  \n",
       "2         55    ham  \n",
       "3        819   spam  \n",
       "4         20   spam  \n",
       "\n",
       "[5 rows x 58 columns]"
      ]
     },
     "execution_count": 2,
     "metadata": {},
     "output_type": "execute_result"
    }
   ],
   "source": [
    "import pandas as pandas\n",
    "import numpy as numpy\n",
    "\n",
    "\n",
    "data = pd.read_csv('../input/spamemail/spam_email.csv')\n",
    "onlydata=data.loc[:,'make':'cap_total']\n",
    "onlydata.describe(include='all')\n",
    "data.head()"
   ]
  },
  {
   "cell_type": "code",
   "execution_count": 3,
   "id": "62175407",
   "metadata": {
    "execution": {
     "iopub.execute_input": "2022-04-08T16:10:59.768024Z",
     "iopub.status.busy": "2022-04-08T16:10:59.767137Z",
     "iopub.status.idle": "2022-04-08T16:11:00.905814Z",
     "shell.execute_reply": "2022-04-08T16:11:00.906356Z",
     "shell.execute_reply.started": "2022-04-08T15:59:38.922687Z"
    },
    "papermill": {
     "duration": 1.162024,
     "end_time": "2022-04-08T16:11:00.906579",
     "exception": false,
     "start_time": "2022-04-08T16:10:59.744555",
     "status": "completed"
    },
    "tags": []
   },
   "outputs": [],
   "source": [
    "# Test dữ liệu và đào tạo\n",
    "from sklearn.model_selection import train_test_split\n",
    "from sklearn import preprocessing\n",
    "X=onlydata.values\n",
    "Class=data.values[:,57]\n",
    "y=numpy.zeros((Class.size))\n",
    "y[Class=='spam']=1\n",
    "# Split data into training and testing sets\n",
    "X_train, X_test, y_train, y_test = train_test_split(X, y, test_size=0.45, random_state = 0)\n",
    "# Standardize the x_train and x_test datasets\n",
    "std_scaler = preprocessing.StandardScaler().fit(X_train)\n",
    "X_train_scaled = std_scaler.transform(X_train)\n",
    "X_test_scaled = std_scaler.transform(X_test)"
   ]
  },
  {
   "cell_type": "code",
   "execution_count": 4,
   "id": "71614a81",
   "metadata": {
    "execution": {
     "iopub.execute_input": "2022-04-08T16:11:00.945765Z",
     "iopub.status.busy": "2022-04-08T16:11:00.944737Z",
     "iopub.status.idle": "2022-04-08T16:11:01.749097Z",
     "shell.execute_reply": "2022-04-08T16:11:01.749649Z",
     "shell.execute_reply.started": "2022-04-08T15:59:38.966896Z"
    },
    "papermill": {
     "duration": 0.828256,
     "end_time": "2022-04-08T16:11:01.749823",
     "exception": false,
     "start_time": "2022-04-08T16:11:00.921567",
     "status": "completed"
    },
    "tags": []
   },
   "outputs": [
    {
     "data": {
      "image/png": "[encoded data removed]",
      "text/plain": [
       "<Figure size 432x288 with 2 Axes>"
      ]
     },
     "metadata": {
      "needs_background": "light"
     },
     "output_type": "display_data"
    }
   ],
   "source": [
    "# Xuất dữ liệu ra bảng\n",
    "from sklearn.decomposition import PCA\n",
    "import matplotlib.pyplot as plt\n",
    "pca = PCA(n_components=2)\n",
    "fig, (plttrain, plttest) = plt.subplots(1, 2)\n",
    "datavl1=pca.fit_transform(X_train_scaled)\n",
    "A1=datavl1[(y_train==1)]\n",
    "A2=datavl1[(y_train==0)]\n",
    "plttrain.set_title('Train values :'+ str(X_train_scaled.shape))\n",
    "plttrain.scatter(A1[:,0],A1[:,1],c=\"Yellow\",marker='o')\n",
    "plttrain.scatter(A2[:,0],A2[:,1],c=\"Red\",marker='+')\n",
    "plttrain.legend(['label 1','label 0'])\n",
    "datavl2=pca.fit_transform(X_test_scaled)\n",
    "A11=datavl2[(y_test==1)]\n",
    "A12=datavl2[(y_test==0)]\n",
    "plttest.set_title('Test values :'+str(X_test_scaled.shape))\n",
    "plttest.scatter(A11[:,0],A11[:,1],c=\"Yellow\",marker='o')\n",
    "plttest.scatter(A12[:,0],A12[:,1],c=\"Red\",marker='+')\n",
    "plttest.legend(['label 1','label 0'])\n",
    "plt.savefig('lettersCG_Xtraintext.png')"
   ]
  },
  {
   "cell_type": "code",
   "execution_count": 5,
   "id": "7ffed259",
   "metadata": {
    "execution": {
     "iopub.execute_input": "2022-04-08T16:11:01.783803Z",
     "iopub.status.busy": "2022-04-08T16:11:01.783050Z",
     "iopub.status.idle": "2022-04-08T16:11:02.247280Z",
     "shell.execute_reply": "2022-04-08T16:11:02.247819Z",
     "shell.execute_reply.started": "2022-04-08T15:59:39.644937Z"
    },
    "papermill": {
     "duration": 0.482776,
     "end_time": "2022-04-08T16:11:02.247990",
     "exception": false,
     "start_time": "2022-04-08T16:11:01.765214",
     "status": "completed"
    },
    "tags": []
   },
   "outputs": [
    {
     "data": {
      "image/png": "[encoded data removed]",
      "text/plain": [
       "<Figure size 432x288 with 1 Axes>"
      ]
     },
     "metadata": {
      "needs_background": "light"
     },
     "output_type": "display_data"
    }
   ],
   "source": [
    "# Test và kiểm tra dữ liệu\n",
    "from sklearn.decomposition import PCA\n",
    "import matplotlib.pyplot as plt\n",
    "pca= PCA(n_components=2)\n",
    "# fig, (plttrain, plttest) = plt.subplots(1, 2)\n",
    "datavlx=pca.fit_transform(X)\n",
    "Ax1=datavlx[(y==1)]\n",
    "Ax2=datavlx[(y==0)]\n",
    "plt.title('Train values :'+ str(X.shape))\n",
    "plt.scatter(Ax1[:,0],Ax1[:,1],c=\"Yellow\",marker='o')\n",
    "plt.scatter(Ax2[:,0],Ax2[:,1],c=\"Red\",marker='+')\n",
    "plt.legend(['label 1','label 0'])\n",
    "plt.savefig('lettersCG_X.png')"
   ]
  },
  {
   "cell_type": "code",
   "execution_count": 6,
   "id": "8839c551",
   "metadata": {
    "execution": {
     "iopub.execute_input": "2022-04-08T16:11:02.284341Z",
     "iopub.status.busy": "2022-04-08T16:11:02.283604Z",
     "iopub.status.idle": "2022-04-08T16:11:02.296528Z",
     "shell.execute_reply": "2022-04-08T16:11:02.297130Z",
     "shell.execute_reply.started": "2022-04-08T15:59:40.131703Z"
    },
    "papermill": {
     "duration": 0.032887,
     "end_time": "2022-04-08T16:11:02.297325",
     "exception": false,
     "start_time": "2022-04-08T16:11:02.264438",
     "status": "completed"
    },
    "tags": []
   },
   "outputs": [],
   "source": [
    "# Đánh giá sắp xếp dữ liệu\n",
    "class RatingModel:\n",
    "    def __init__(self, y_, y_Pr):\n",
    "      self.y_=y_\n",
    "      self.y_Pr=y_Pr\n",
    "      self.TN=np.size(y_Pr[(y_Pr==-1)&(y_==y_Pr)])\n",
    "      self.FN=np.size(y_Pr[(y_Pr==-1)&(y_!=y_Pr)])\n",
    "      self.TP=np.size(y_Pr[(y_Pr==1)&(y_==y_Pr)])\n",
    "      self.FP=np.size(y_Pr[(y_Pr==1)&(y_!=y_Pr)])\n",
    "      self.y_[self.y_==0]=-1\n",
    "      self.y_Pr[self.y_Pr==0]=-1\n",
    "      # assert self.y_.set={1, -1}\n",
    "      # assert self.y_Pr.set={1, -1}\n",
    "    def __rep__():\n",
    "        return \"\"\n",
    "    def accur_Error(self, y_, y_Pr):\n",
    "        rs=(self.TP+self.TN)/(y_.size)\n",
    "        return [rs,(1-rs)]\n",
    "    def sensitivity(self):\n",
    "        P=np.size(self.y_[self.y_==1])\n",
    "        return (self.TP)/(P)\n",
    "    def specificity(self):\n",
    "        N=np.size(self.y_[self.y_==-1])\n",
    "        return (self.TN)/(N)\n",
    "    def precision(self):\n",
    "        rs=self.TP+self.FP\n",
    "        return (self.TP)/(rs)\n",
    "    def recall(self):\n",
    "        rs=self.TP+self.FN\n",
    "        return (self.TP)/(rs)\n",
    "    def rating(self):\n",
    "        return [self.accur_Error(self.y_, self.y_Pr), self.sensitivity(), self.specificity(), self.precision(), self.recall()]"
   ]
  },
  {
   "cell_type": "code",
   "execution_count": 7,
   "id": "a5833d30",
   "metadata": {
    "execution": {
     "iopub.execute_input": "2022-04-08T16:11:02.334251Z",
     "iopub.status.busy": "2022-04-08T16:11:02.333526Z",
     "iopub.status.idle": "2022-04-08T16:11:02.348357Z",
     "shell.execute_reply": "2022-04-08T16:11:02.348890Z",
     "shell.execute_reply.started": "2022-04-08T15:59:40.146982Z"
    },
    "papermill": {
     "duration": 0.03472,
     "end_time": "2022-04-08T16:11:02.349084",
     "exception": false,
     "start_time": "2022-04-08T16:11:02.314364",
     "status": "completed"
    },
    "tags": []
   },
   "outputs": [],
   "source": [
    "# Xây dựng thuật toán gốc quyết định\n",
    "class DecisionStump:\n",
    "    def __init__(self, T=100):\n",
    "        self.T = T\n",
    "        pass\n",
    "\n",
    "    def fit(self, X: np.ndarray, y: np.ndarray, sample_weight: np.ndarray):\n",
    "        T = self.T\n",
    "        W=sample_weight\n",
    "        nrow, ncol = X.shape\n",
    "        assert nrow == y.size\n",
    "\n",
    "        bestn = 0\n",
    "        bestd = 1\n",
    "        bestp = 0\n",
    "        minerr = W.sum()\n",
    "        for i in range(ncol):\n",
    "            err, d, p = self._optimize(X[:, i], y, W, T)\n",
    "            if err < minerr:\n",
    "                minerr = err\n",
    "                bestn = i\n",
    "                bestd = d\n",
    "                bestp = p\n",
    "        \n",
    "        self.features = ncol\n",
    "        self.bestn = bestn\n",
    "        self.bestd = bestd\n",
    "        self.bestp = bestp\n",
    "\n",
    "        return self\n",
    "\n",
    "    def _optimize(self, X, y, W, T):\n",
    "        X = X.flatten()\n",
    "        min_x, max_x = X.min(), X.max()\n",
    "        len_x = max_x - min_x\n",
    "        \n",
    "        bestd = 1\n",
    "        bestp = min_x\n",
    "        minerr = W.sum()\n",
    "\n",
    "        if len_x > 0.0:\n",
    "            for p in np.arange(min_x, max_x, len_x/T):\n",
    "                for d in [-1, 1]:\n",
    "                    gy = np.ones((y.size))\n",
    "                    gy[X*d < p*d] = -1\n",
    "                    err = np.sum((gy != y)*W)\n",
    "                    if err < minerr:\n",
    "                        minerr = err\n",
    "                        bestd = d\n",
    "                        bestp = p\n",
    "\n",
    "        return minerr, bestd, bestp\n",
    "\n",
    "    def predict(self, test_set : np.ndarray):\n",
    "        nrow, ncol = test_set.shape\n",
    "\n",
    "        assert ncol == self.features\n",
    "\n",
    "        icol = test_set[:, self.bestn]\n",
    "        h = np.ones((nrow))\n",
    "        h[icol*self.bestd < self.bestp*self.bestd] = -1\n",
    "        return h"
   ]
  },
  {
   "cell_type": "code",
   "execution_count": 8,
   "id": "866f8cf5",
   "metadata": {
    "execution": {
     "iopub.execute_input": "2022-04-08T16:11:02.401496Z",
     "iopub.status.busy": "2022-04-08T16:11:02.400753Z",
     "iopub.status.idle": "2022-04-08T16:11:02.403308Z",
     "shell.execute_reply": "2022-04-08T16:11:02.402777Z",
     "shell.execute_reply.started": "2022-04-08T15:59:40.168229Z"
    },
    "papermill": {
     "duration": 0.037939,
     "end_time": "2022-04-08T16:11:02.403461",
     "exception": false,
     "start_time": "2022-04-08T16:11:02.365522",
     "status": "completed"
    },
    "tags": []
   },
   "outputs": [],
   "source": [
    "#Xây dựng thuật toán Adaboost\n",
    "class AdaBoost:\n",
    "    def __init__(self , T, hmodel = DecisionStump()):\n",
    "        self.T=T\n",
    "        self.hmodel=hmodel\n",
    "    def fit(self, X: np.ndarray, y_: np.ndarray, verbose=False):\n",
    "      n = X.shape[0]\n",
    "      T = self.T\n",
    "      y=y_\n",
    "      y[y==0]=-1\n",
    "    # init numpy arrays\n",
    "      self.D = np.zeros(shape=(T, n))\n",
    "      self.h = np.zeros(shape=T, dtype=object)\n",
    "      self.alpha = np.zeros(shape=T)\n",
    "      self.errors = np.zeros(shape=T)\n",
    "      self.ratting = np.zeros(shape=(T,2))\n",
    "\n",
    "      # initialize weights uniformly\n",
    "      self.D[0] = np.ones(shape=n) / n\n",
    "\n",
    "      for t in range(T):\n",
    "          # fit  weak learner\n",
    "          D_ = self.D[t]\n",
    "          h_ = DecisionStump(60)\n",
    "          h_ = h_.fit(X, y, D_)\n",
    "\n",
    "          # calculate error and stump weight from weak learner prediction\n",
    "          Pr_ = h_.predict(X)\n",
    "          error_ = D_[(Pr_ != y)].sum()# / n\n",
    "          alpha_ = np.log((1 - error_) / error_) / 2\n",
    "\n",
    "          # update sample weights\n",
    "          D_new = (\n",
    "              D_ * np.exp(-alpha_ * y * Pr_)\n",
    "          )\n",
    "          \n",
    "          D_new /= D_new.sum()\n",
    "\n",
    "          # If not final iteration, update sample weights for t+1\n",
    "          if t+1 < T:\n",
    "              self.D[t+1] = D_new\n",
    "\n",
    "          # save results of iteration\n",
    "          self.h[t] = h_\n",
    "          self.alpha[t] = alpha_\n",
    "          self.errors[t] = error_\n",
    "          # ae=np.array([0,0])\n",
    "          if t>0:\n",
    "            Pr_temp=self.predictmodul(X,t)\n",
    "            modelra=RatingModel(y, Pr_temp)\n",
    "            self.ratting[t,:]=modelra.accur_Error(y, Pr_temp)\n",
    "          if verbose: print('Training {0}-th weak classifier: accuracy={1}, error={2}'.format (t, self.ratting[t,0], self.ratting[t,1]))\n",
    "      return self\n",
    "    def predict(self, X):\n",
    "        Pr_ = np.array([h_.predict(X) for h_ in self.h])\n",
    "        return np.sign(np.dot(self.alpha, Pr_))\n",
    "    def predictmodul(self, X, i):\n",
    "        h_temp=self.h[:i]\n",
    "        alpha_temp=self.alpha[:i]\n",
    "        Pr_ = np.array([h_.predict(X) for h_ in h_temp])\n",
    "        return np.sign(np.dot(alpha_temp, Pr_))"
   ]
  },
  {
   "cell_type": "code",
   "execution_count": 9,
   "id": "43228e1c",
   "metadata": {
    "execution": {
     "iopub.execute_input": "2022-04-08T16:11:02.443264Z",
     "iopub.status.busy": "2022-04-08T16:11:02.442569Z",
     "iopub.status.idle": "2022-04-08T16:11:18.294694Z",
     "shell.execute_reply": "2022-04-08T16:11:18.295715Z",
     "shell.execute_reply.started": "2022-04-08T15:59:40.189576Z"
    },
    "papermill": {
     "duration": 15.875754,
     "end_time": "2022-04-08T16:11:18.296029",
     "exception": false,
     "start_time": "2022-04-08T16:11:02.420275",
     "status": "completed"
    },
    "tags": []
   },
   "outputs": [
    {
     "name": "stdout",
     "output_type": "stream",
     "text": [
      "Training 0-th weak classifier: accuracy=0.0, error=0.0\n",
      "Training 1-th weak classifier: accuracy=0.7845849802371542, error=0.21541501976284583\n",
      "Training 2-th weak classifier: accuracy=0.7845849802371542, error=0.21541501976284583\n",
      "Training 3-th weak classifier: accuracy=0.8454545454545455, error=0.15454545454545454\n",
      "Training 4-th weak classifier: accuracy=0.8379446640316206, error=0.1620553359683794\n",
      "Training 5-th weak classifier: accuracy=0.8778656126482214, error=0.12213438735177862\n",
      "Training 6-th weak classifier: accuracy=0.8794466403162056, error=0.12055335968379444\n",
      "Training 7-th weak classifier: accuracy=0.8869565217391304, error=0.11304347826086958\n",
      "Training 8-th weak classifier: accuracy=0.8905138339920948, error=0.10948616600790517\n",
      "Training 9-th weak classifier: accuracy=0.8936758893280632, error=0.10632411067193681\n",
      "Training 10-th weak classifier: accuracy=0.8992094861660079, error=0.10079051383399207\n",
      "Training 11-th weak classifier: accuracy=0.9035573122529644, error=0.09644268774703557\n",
      "Training 12-th weak classifier: accuracy=0.9110671936758893, error=0.08893280632411071\n",
      "Training 13-th weak classifier: accuracy=0.9055335968379447, error=0.09446640316205535\n",
      "Training 14-th weak classifier: accuracy=0.9134387351778656, error=0.08656126482213444\n",
      "Training 15-th weak classifier: accuracy=0.9094861660079051, error=0.0905138339920949\n",
      "Training 16-th weak classifier: accuracy=0.9158102766798419, error=0.08418972332015806\n",
      "Training 17-th weak classifier: accuracy=0.9154150197628459, error=0.0845849802371541\n",
      "Training 18-th weak classifier: accuracy=0.9197628458498024, error=0.08023715415019761\n",
      "Training 19-th weak classifier: accuracy=0.9181818181818182, error=0.08181818181818179\n",
      "Training 20-th weak classifier: accuracy=0.9213438735177866, error=0.07865612648221343\n",
      "Training 21-th weak classifier: accuracy=0.9201581027667984, error=0.07984189723320156\n",
      "Training 22-th weak classifier: accuracy=0.9189723320158103, error=0.0810276679841897\n",
      "Training 23-th weak classifier: accuracy=0.9193675889328063, error=0.08063241106719365\n",
      "Training 24-th weak classifier: accuracy=0.9217391304347826, error=0.07826086956521738\n",
      "Training 25-th weak classifier: accuracy=0.9209486166007905, error=0.07905138339920947\n",
      "Training 26-th weak classifier: accuracy=0.9193675889328063, error=0.08063241106719365\n",
      "Training 27-th weak classifier: accuracy=0.9233201581027668, error=0.0766798418972332\n",
      "Training 28-th weak classifier: accuracy=0.9237154150197628, error=0.07628458498023716\n",
      "Training 29-th weak classifier: accuracy=0.9256916996047431, error=0.07430830039525693\n",
      "Training 30-th weak classifier: accuracy=0.9256916996047431, error=0.07430830039525693\n",
      "Training 31-th weak classifier: accuracy=0.9260869565217391, error=0.07391304347826089\n",
      "Training 32-th weak classifier: accuracy=0.9256916996047431, error=0.07430830039525693\n",
      "Training 33-th weak classifier: accuracy=0.9272727272727272, error=0.07272727272727275\n",
      "Training 34-th weak classifier: accuracy=0.9237154150197628, error=0.07628458498023716\n",
      "Training 35-th weak classifier: accuracy=0.9264822134387352, error=0.07351778656126484\n",
      "Training 36-th weak classifier: accuracy=0.925296442687747, error=0.07470355731225298\n",
      "Training 37-th weak classifier: accuracy=0.9284584980237154, error=0.07154150197628462\n",
      "Training 38-th weak classifier: accuracy=0.9260869565217391, error=0.07391304347826089\n",
      "Training 39-th weak classifier: accuracy=0.9288537549407114, error=0.07114624505928857\n",
      "Training 40-th weak classifier: accuracy=0.9260869565217391, error=0.07391304347826089\n",
      "Training 41-th weak classifier: accuracy=0.9292490118577075, error=0.07075098814229253\n",
      "Training 42-th weak classifier: accuracy=0.9268774703557312, error=0.0731225296442688\n",
      "Training 43-th weak classifier: accuracy=0.9312252964426877, error=0.0687747035573123\n",
      "Training 44-th weak classifier: accuracy=0.9280632411067193, error=0.07193675889328066\n",
      "Training 45-th weak classifier: accuracy=0.9308300395256917, error=0.06916996047430835\n",
      "Training 46-th weak classifier: accuracy=0.9284584980237154, error=0.07154150197628462\n",
      "Training 47-th weak classifier: accuracy=0.9324110671936758, error=0.06758893280632416\n",
      "Training 48-th weak classifier: accuracy=0.9300395256916996, error=0.06996047430830044\n",
      "Training 49-th weak classifier: accuracy=0.933201581027668, error=0.06679841897233196\n",
      "Training 50-th weak classifier: accuracy=0.9300395256916996, error=0.06996047430830044\n",
      "Training 51-th weak classifier: accuracy=0.9339920948616601, error=0.06600790513833987\n",
      "Training 52-th weak classifier: accuracy=0.9304347826086956, error=0.06956521739130439\n",
      "Training 53-th weak classifier: accuracy=0.9347826086956522, error=0.06521739130434778\n",
      "Training 54-th weak classifier: accuracy=0.933201581027668, error=0.06679841897233196\n"
     ]
    }
   ],
   "source": [
    "# Xử dụng thuật toán AdaBoost để đào tạo các dữ liệu ban đầu theo số lần\n",
    "model=AdaBoost(55)\n",
    "model=model.fit(X_train_scaled, y_train,  True )\n",
    "Pr=model.predict( X_test_scaled)\n",
    "Pr[(Pr==0)]=-1\n",
    "# print(Pr, y_test)"
   ]
  },
  {
   "cell_type": "code",
   "execution_count": 10,
   "id": "ed1f1e7e",
   "metadata": {
    "execution": {
     "iopub.execute_input": "2022-04-08T16:11:18.431809Z",
     "iopub.status.busy": "2022-04-08T16:11:18.430720Z",
     "iopub.status.idle": "2022-04-08T16:11:18.849928Z",
     "shell.execute_reply": "2022-04-08T16:11:18.850425Z",
     "shell.execute_reply.started": "2022-04-08T15:59:55.734281Z"
    },
    "papermill": {
     "duration": 0.485786,
     "end_time": "2022-04-08T16:11:18.850605",
     "exception": false,
     "start_time": "2022-04-08T16:11:18.364819",
     "status": "completed"
    },
    "tags": []
   },
   "outputs": [
    {
     "data": {
      "text/plain": [
       "[<matplotlib.lines.Line2D at 0x7f072d631690>]"
      ]
     },
     "execution_count": 10,
     "metadata": {},
     "output_type": "execute_result"
    },
    {
     "data": {
      "image/png": "[encoded data removed]",
      "text/plain": [
       "<Figure size 432x288 with 1 Axes>"
      ]
     },
     "metadata": {
      "needs_background": "light"
     },
     "output_type": "display_data"
    }
   ],
   "source": [
    "# Xuất ra bảng đường cong lỗi đào tạo\n",
    "ra_Xtest = np.zeros(shape=(model.T,2))\n",
    "for i in range(1,model.T):\n",
    "  Pr_i=model.predictmodul(X_test_scaled,i)\n",
    "  modelra=RatingModel(y_test, Pr_i)\n",
    "  ra_Xtest[i,:]=modelra.accur_Error(y_test, Pr_i)\n",
    "ra_Xtrain = np.zeros(shape=(model.T,2))\n",
    "for i in range(1,model.T):\n",
    "  Pr_i=model.predictmodul(X_train_scaled,i)\n",
    "  modelra=RatingModel(y_train, Pr_i)\n",
    "  ra_Xtrain[i,:]=modelra.accur_Error(y_train, Pr_i)\n",
    "iter=range(model.T)\n",
    "plt.plot(iter,ra_Xtest[:,0],'y-', label='Test accuracy')\n",
    "plt.plot(iter,ra_Xtest[:,1],'r-', label='Test error')\n",
    "plt.plot(iter,ra_Xtrain[:,0],'y--', label='Train accuracy')\n",
    "plt.plot(iter,ra_Xtrain[:,1],'r--', label='Train error')"
   ]
  },
  {
   "cell_type": "code",
   "execution_count": 11,
   "id": "6385d3b6",
   "metadata": {
    "execution": {
     "iopub.execute_input": "2022-04-08T16:11:18.929770Z",
     "iopub.status.busy": "2022-04-08T16:11:18.929109Z",
     "iopub.status.idle": "2022-04-08T16:11:19.324784Z",
     "shell.execute_reply": "2022-04-08T16:11:19.324275Z",
     "shell.execute_reply.started": "2022-04-08T15:59:56.181553Z"
    },
    "papermill": {
     "duration": 0.43657,
     "end_time": "2022-04-08T16:11:19.324922",
     "exception": false,
     "start_time": "2022-04-08T16:11:18.888352",
     "status": "completed"
    },
    "tags": []
   },
   "outputs": [
    {
     "data": {
      "image/png": "[encoded data removed]",
      "text/plain": [
       "<Figure size 432x288 with 1 Axes>"
      ]
     },
     "metadata": {
      "needs_background": "light"
     },
     "output_type": "display_data"
    }
   ],
   "source": [
    "sumerror=0;\n",
    "y_new=y_test\n",
    "y_new[y_new==0]=-1\n",
    "# for i in range(y_new.shape[0]):\n",
    "#   if y_new[i]!=Pr[i]: \n",
    "#     sumerror+=1\n",
    "sumerror=np.size(y_new[Pr!=y_new])\n",
    "gT1=datavl2[(Pr==1)]\n",
    "gT0=datavl2[(Pr==-1)]\n",
    "gF1=datavl2[(y_new!=Pr)&(Pr==1)]\n",
    "gF0=datavl2[(y_new!=Pr)&(Pr==-1)]\n",
    "plt.title('Test values errors :'+str(sumerror)+'/ '+str(X_test_scaled.shape[0]))\n",
    "plt.scatter(gT1[:,0],gT1[:,1],c=\"Yellow\", marker='o')\n",
    "plt.scatter(gT0[:,0],gT0[:,1],c=\"Red\", marker='+')\n",
    "plt.scatter(gF1[:,0],gF1[:,1], c=\"black\", marker='o')\n",
    "plt.scatter(gF0[:,0],gF0[:,1], c=\"black\", marker='+')\n",
    "plt.legend(['Dự đoán đúng 1', 'Dự đoán đúng 0', 'Dự đoán sai'])\n",
    "plt.savefig('lettersCG_XtextError.png')"
   ]
  }
 ],
 "metadata": {
  "kernelspec": {
   "display_name": "Python 3",
   "language": "python",
   "name": "python3"
  },
  "language_info": {
   "codemirror_mode": {
    "name": "ipython",
    "version": 3
   },
   "file_extension": ".py",
   "mimetype": "text/x-python",
   "name": "python",
   "nbconvert_exporter": "python",
   "pygments_lexer": "ipython3",
   "version": "3.7.12"
  },
  "papermill": {
   "default_parameters": {},
   "duration": 31.307479,
   "end_time": "2022-04-08T16:11:20.074910",
   "environment_variables": {},
   "exception": null,
   "input_path": "__notebook__.ipynb",
   "output_path": "__notebook__.ipynb",
   "parameters": {},
   "start_time": "2022-04-08T16:10:48.767431",
   "version": "2.3.3"
  }
 },
 "nbformat": 4,
 "nbformat_minor": 5
}
